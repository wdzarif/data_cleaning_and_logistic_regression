{
 "cells": [
  {
   "cell_type": "markdown",
   "metadata": {},
   "source": [
    "Author: Waheed Zarif\n",
    "\n",
    "Date: 07082020\n",
    "\n",
    "Version: 0.1\n",
    "\n",
    "Description: \n",
    "    In this excersize, I use a dataset form Lending Club which releases data of all the approved or denied loan applications\n",
    "    on thier platforms. This dataset is from 2007-2011, that's because all the loans are either paid off or defaulted"
   ]
  },
  {
   "cell_type": "code",
   "execution_count": 155,
   "metadata": {
    "scrolled": false
   },
   "outputs": [],
   "source": [
    "import pandas as pd\n",
    "from IPython.core.interactiveshell import InteractiveShell\n",
    "InteractiveShell.ast_node_interactivity = \"all\"\n",
    "%matplotlib inline\n"
   ]
  },
  {
   "cell_type": "code",
   "execution_count": 156,
   "metadata": {
    "scrolled": false
   },
   "outputs": [
    {
     "data": {
      "text/plain": [
       "(42542, 150)"
      ]
     },
     "execution_count": 156,
     "metadata": {},
     "output_type": "execute_result"
    }
   ],
   "source": [
    "loans = pd.read_csv('data.csv')\n",
    "loans.shape"
   ]
  },
  {
   "cell_type": "markdown",
   "metadata": {},
   "source": [
    "## Cleaning the data"
   ]
  },
  {
   "cell_type": "code",
   "execution_count": 157,
   "metadata": {
    "scrolled": false
   },
   "outputs": [
    {
     "data": {
      "text/plain": [
       "(42542, 148)"
      ]
     },
     "execution_count": 157,
     "metadata": {},
     "output_type": "execute_result"
    }
   ],
   "source": [
    "drop_cols = ['desc', 'url']\n",
    "cleaned_loans = loans.drop(drop_cols, axis = 1)\n",
    "cleaned_loans.shape"
   ]
  },
  {
   "cell_type": "markdown",
   "metadata": {},
   "source": [
    "Counting missing values in each column\n",
    "If 50% or more of the rows in a column has missing values, we drop from the data frame"
   ]
  },
  {
   "cell_type": "code",
   "execution_count": 158,
   "metadata": {
    "scrolled": true
   },
   "outputs": [
    {
     "data": {
      "text/plain": [
       "(42542, 57)"
      ]
     },
     "execution_count": 158,
     "metadata": {},
     "output_type": "execute_result"
    }
   ],
   "source": [
    "isnull_count = cleaned_loans.isnull().sum()\n",
    "half_df_size = round(cleaned_loans.shape[0]*0.5)\n",
    "drop_cols = isnull_count[isnull_count>=half_df_size].index\n",
    "cleaned_loans = cleaned_loans.drop(drop_cols, axis=1)\n",
    "cleaned_loans.shape"
   ]
  },
  {
   "cell_type": "markdown",
   "metadata": {},
   "source": [
    "Displaying the remaining column names "
   ]
  },
  {
   "cell_type": "code",
   "execution_count": 159,
   "metadata": {},
   "outputs": [
    {
     "name": "stdout",
     "output_type": "stream",
     "text": [
      "id\n",
      "loan_amnt\n",
      "funded_amnt\n",
      "funded_amnt_inv\n",
      "term\n",
      "int_rate\n",
      "installment\n",
      "grade\n",
      "sub_grade\n",
      "emp_title\n",
      "emp_length\n",
      "home_ownership\n",
      "annual_inc\n",
      "verification_status\n",
      "issue_d\n",
      "loan_status\n",
      "pymnt_plan\n",
      "purpose\n",
      "title\n",
      "zip_code\n",
      "addr_state\n",
      "dti\n",
      "delinq_2yrs\n",
      "earliest_cr_line\n",
      "fico_range_low\n",
      "fico_range_high\n",
      "inq_last_6mths\n",
      "open_acc\n",
      "pub_rec\n",
      "revol_bal\n",
      "revol_util\n",
      "total_acc\n",
      "initial_list_status\n",
      "out_prncp\n",
      "out_prncp_inv\n",
      "total_pymnt\n",
      "total_pymnt_inv\n",
      "total_rec_prncp\n",
      "total_rec_int\n",
      "total_rec_late_fee\n",
      "recoveries\n",
      "collection_recovery_fee\n",
      "last_pymnt_d\n",
      "last_pymnt_amnt\n",
      "last_credit_pull_d\n",
      "last_fico_range_high\n",
      "last_fico_range_low\n",
      "collections_12_mths_ex_med\n",
      "policy_code\n",
      "application_type\n",
      "acc_now_delinq\n",
      "chargeoff_within_12_mths\n",
      "delinq_amnt\n",
      "pub_rec_bankruptcies\n",
      "tax_liens\n",
      "hardship_flag\n",
      "debt_settlement_flag\n"
     ]
    }
   ],
   "source": [
    "for i in cleaned_loans.columns:\n",
    "    print(i)"
   ]
  },
  {
   "cell_type": "markdown",
   "metadata": {},
   "source": [
    "Columns descriptions are found here. \n",
    "https://docs.google.com/spreadsheets/d/191B2yJ4H1ZPXq0_ByhUgWMFZOYem5jFz0Y3by_7YBY4/edit#gid=2081333097\n",
    "\n",
    "Some column values are either useless for machine learning purposes or they leak data about the target the column. These are as following: \n",
    "\n",
    "    id: randomly generated field by Lending Club for unique identification purposes only\n",
    "    member_id: also a randomly generated field by Lending Club for unique identification purposes only\n",
    "    funded_amnt: leaks data from the future (after the loan is already started to be funded)\n",
    "    funded_amnt_inv: also leaks data from the future (after the loan is already started to be funded)\n",
    "    grade: contains redundant information as the interest rate column (int_rate)\n",
    "    sub_grade: also contains redundant information as the interest rate column (int_rate)\n",
    "    emp_title: requires other data and a lot of processing to potentially be useful\n",
    "    issue_d: leaks data from the future (after the loan is already completely funded)\n",
    "    zip_code: redundant with the addr_state column since only the first 3 digits of the 5 digit zip code are visible (which only can be used to identify the state the borrower lives in)\n",
    "    out_prncp: leaks data from the future, (after the loan already started to be paid off)\n",
    "    out_prncp_inv: also leaks data from the future, (after the loan already started to be paid off)\n",
    "    total_pymnt: also leaks data from the future, (after the loan already started to be paid off)\n",
    "    total_pymnt_inv: also leaks data from the future, (after the loan already started to be paid off)\n",
    "    total_rec_prncp: also leaks data from the future, (after the loan already started to be paid off)\n",
    "    total_rec_int: leaks data from the future, (after the loan already started to be paid off),\n",
    "    total_rec_late_fee: also leaks data from the future, (after the loan already started to be paid off),\n",
    "    recoveries: also leaks data from the future, (after the loan already started to be paid off),\n",
    "    collection_recovery_fee: also leaks data from the future, (after the loan already started to be paid off),\n",
    "    last_pymnt_d: also leaks data from the future, (after the loan already started to be paid off),\n",
    "    last_pymnt_amnt: also leaks data from the future, (after the loan already started to be paid off)\n",
    "\n",
    "The above columns are drop from the dataframe"
   ]
  },
  {
   "cell_type": "code",
   "execution_count": 160,
   "metadata": {
    "scrolled": false
   },
   "outputs": [],
   "source": [
    "cols_to_drop = [\n",
    "    'id', 'funded_amnt', 'funded_amnt_inv', 'grade', 'sub_grade', 'emp_title', 'issue_d',\n",
    "    'zip_code', 'out_prncp', 'out_prncp_inv', 'total_pymnt', 'total_pymnt_inv', 'total_rec_prncp',\n",
    "    'total_rec_int', 'total_rec_late_fee', 'recoveries', 'collection_recovery_fee', 'last_pymnt_amnt', 'last_pymnt_d',   \n",
    "]\n",
    "cleaned_loans = cleaned_loans.drop(cols_to_drop, axis = 1)"
   ]
  },
  {
   "cell_type": "code",
   "execution_count": 165,
   "metadata": {},
   "outputs": [
    {
     "name": "stdout",
     "output_type": "stream",
     "text": [
      "<class 'pandas.core.frame.DataFrame'>\n",
      "RangeIndex: 42542 entries, 0 to 42541\n",
      "Data columns (total 38 columns):\n",
      " #   Column                      Non-Null Count  Dtype  \n",
      "---  ------                      --------------  -----  \n",
      " 0   loan_amnt                   42535 non-null  float64\n",
      " 1   term                        42535 non-null  object \n",
      " 2   int_rate                    42535 non-null  object \n",
      " 3   installment                 42535 non-null  float64\n",
      " 4   emp_length                  41423 non-null  object \n",
      " 5   home_ownership              42535 non-null  object \n",
      " 6   annual_inc                  42531 non-null  float64\n",
      " 7   verification_status         42535 non-null  object \n",
      " 8   loan_status                 42535 non-null  object \n",
      " 9   pymnt_plan                  42535 non-null  object \n",
      " 10  purpose                     42535 non-null  object \n",
      " 11  title                       42522 non-null  object \n",
      " 12  addr_state                  42535 non-null  object \n",
      " 13  dti                         42535 non-null  float64\n",
      " 14  delinq_2yrs                 42506 non-null  float64\n",
      " 15  earliest_cr_line            42506 non-null  object \n",
      " 16  fico_range_low              42535 non-null  float64\n",
      " 17  fico_range_high             42535 non-null  float64\n",
      " 18  inq_last_6mths              42506 non-null  float64\n",
      " 19  open_acc                    42506 non-null  float64\n",
      " 20  pub_rec                     42506 non-null  float64\n",
      " 21  revol_bal                   42535 non-null  float64\n",
      " 22  revol_util                  42445 non-null  object \n",
      " 23  total_acc                   42506 non-null  float64\n",
      " 24  initial_list_status         42535 non-null  object \n",
      " 25  last_credit_pull_d          42531 non-null  object \n",
      " 26  last_fico_range_high        42535 non-null  float64\n",
      " 27  last_fico_range_low         42535 non-null  float64\n",
      " 28  collections_12_mths_ex_med  42390 non-null  float64\n",
      " 29  policy_code                 42535 non-null  float64\n",
      " 30  application_type            42535 non-null  object \n",
      " 31  acc_now_delinq              42506 non-null  float64\n",
      " 32  chargeoff_within_12_mths    42390 non-null  float64\n",
      " 33  delinq_amnt                 42506 non-null  float64\n",
      " 34  pub_rec_bankruptcies        41170 non-null  float64\n",
      " 35  tax_liens                   42430 non-null  float64\n",
      " 36  hardship_flag               42535 non-null  object \n",
      " 37  debt_settlement_flag        42535 non-null  object \n",
      "dtypes: float64(21), object(17)\n",
      "memory usage: 12.3+ MB\n"
     ]
    }
   ],
   "source": [
    "cleaned_loans.info()"
   ]
  },
  {
   "cell_type": "markdown",
   "metadata": {},
   "source": [
    "The best candidate for the target column is the loan status column, which shows us if a  loan is paid or not"
   ]
  },
  {
   "cell_type": "code",
   "execution_count": 169,
   "metadata": {
    "scrolled": false
   },
   "outputs": [
    {
     "data": {
      "text/plain": [
       "Fully Paid                                             34116\n",
       "Charged Off                                             5670\n",
       "Does not meet the credit policy. Status:Fully Paid      1988\n",
       "Does not meet the credit policy. Status:Charged Off      761\n",
       "Name: loan_status, dtype: int64"
      ]
     },
     "execution_count": 169,
     "metadata": {},
     "output_type": "execute_result"
    }
   ],
   "source": [
    "cleaned_loans['loan_status'].value_counts()"
   ]
  },
  {
   "cell_type": "markdown",
   "metadata": {},
   "source": [
    "Fully Paid\t= Loan has been fully paid off.\n",
    "Charged Off\t= Loan for which there is no longer a reasonable expectation of further payments.\n",
    "Does not meet the credit policy. Status:Fully Paid\t= While the loan was paid off, the loan application today would no longer meet the credit policy and wouldn't be approved on to the marketplace.\n",
    "Does not meet the credit policy. Status:Charged Off\t= While the loan was charged off, the loan application today \n",
    "\n",
    "So in this case, we are only going to keep the rows that shows either fully paid or charged off. Rest of the rows are dropped. \n",
    "\n",
    "Also, we will change 'Fully Paid' to 1, and 'Charged Off' to 0, making a numerical value that can be used by machine learning algorithm. "
   ]
  },
  {
   "cell_type": "code",
   "execution_count": 173,
   "metadata": {
    "scrolled": true
   },
   "outputs": [
    {
     "name": "stdout",
     "output_type": "stream",
     "text": [
      "(39786, 38)\n"
     ]
    },
    {
     "data": {
      "text/plain": [
       "1    34116\n",
       "0     5670\n",
       "Name: loan_status, dtype: int64"
      ]
     },
     "execution_count": 173,
     "metadata": {},
     "output_type": "execute_result"
    }
   ],
   "source": [
    "cleaned_loans = cleaned_loans[(cleaned_loans['loan_status'] == 'Fully Paid') | \n",
    "                              (cleaned_loans['loan_status'] == 'Charged Off')]\n",
    "map_dict = {\n",
    "    'loan_status': {\n",
    "        'Fully Paid': 1,\n",
    "        'Charged Off': 0    \n",
    "    }\n",
    "}\n",
    "\n",
    "cleaned_loans = cleaned_loans.replace(map_dict)\n",
    "print(cleaned_loans.shape)\n",
    "cleaned_loans['loan_status'].value_counts()"
   ]
  },
  {
   "cell_type": "markdown",
   "metadata": {},
   "source": [
    "Are there any columns with only one unique value (discounting NaN values as unique)? \n",
    "\n",
    "We will drop any columns with one unique value because it doesn't add any useful information to the model"
   ]
  },
  {
   "cell_type": "code",
   "execution_count": 195,
   "metadata": {
    "scrolled": true
   },
   "outputs": [],
   "source": [
    "cols_to_drop = []\n",
    "for columns in cleaned_loans:\n",
    "    non_null = cleaned_loans[columns].dropna()\n",
    "    unique_non_null = len(non_null.unique())\n",
    "    if unique_non_null == 1:\n",
    "        cols_to_drop.append(columns)\n",
    "    else:\n",
    "        pass\n",
    "\n",
    "cleaned_loans = cleaned_loans.drop(cols_to_drop, axis=1)"
   ]
  },
  {
   "cell_type": "code",
   "execution_count": 197,
   "metadata": {
    "scrolled": true
   },
   "outputs": [
    {
     "data": {
      "text/plain": [
       "(39786, 28)"
      ]
     },
     "execution_count": 197,
     "metadata": {},
     "output_type": "execute_result"
    }
   ],
   "source": [
    "cleaned_loans.shape"
   ]
  },
  {
   "cell_type": "markdown",
   "metadata": {},
   "source": [
    "## Preparing Features"
   ]
  },
  {
   "cell_type": "code",
   "execution_count": 199,
   "metadata": {
    "scrolled": true
   },
   "outputs": [
    {
     "data": {
      "text/plain": [
       "emp_length              1078\n",
       "title                     11\n",
       "revol_util                50\n",
       "last_credit_pull_d         2\n",
       "pub_rec_bankruptcies     697\n",
       "dtype: int64"
      ]
     },
     "execution_count": 199,
     "metadata": {},
     "output_type": "execute_result"
    }
   ],
   "source": [
    "null_count = cleaned_loans.isnull().sum()\n",
    "null_count[null_count>0]"
   ]
  },
  {
   "cell_type": "markdown",
   "metadata": {},
   "source": [
    "Although emp_length, which is employement length, has many missing values, it is an important column to keep\n",
    "The other column with a lot of missing values is pub_rec_bankruptcies, which is Public Record of Bankruptcy. \n",
    "Let's do a requency count to see the distribution in this column"
   ]
  },
  {
   "cell_type": "code",
   "execution_count": 201,
   "metadata": {
    "scrolled": true
   },
   "outputs": [
    {
     "data": {
      "text/plain": [
       "0.0    0.940130\n",
       "1.0    0.042176\n",
       "NaN    0.017519\n",
       "2.0    0.000176\n",
       "Name: pub_rec_bankruptcies, dtype: float64"
      ]
     },
     "execution_count": 201,
     "metadata": {},
     "output_type": "execute_result"
    }
   ],
   "source": [
    "cleaned_loans['pub_rec_bankruptcies'].value_counts(normalize=True, dropna=False)"
   ]
  },
  {
   "cell_type": "markdown",
   "metadata": {},
   "source": [
    "Seems like ~95% of the data is the 0 category. Other category values are marginal. \n",
    "So this column doesn't add alot of value to the algorithm. It will be droped"
   ]
  },
  {
   "cell_type": "code",
   "execution_count": 202,
   "metadata": {
    "scrolled": true
   },
   "outputs": [],
   "source": [
    "cleaned_loans = cleaned_loans.drop(['pub_rec_bankruptcies'], axis=1)"
   ]
  },
  {
   "cell_type": "markdown",
   "metadata": {},
   "source": [
    "For the rest of the columns with missing values, we will keep them but drop the rows that have missing values "
   ]
  },
  {
   "cell_type": "code",
   "execution_count": 205,
   "metadata": {
    "scrolled": true
   },
   "outputs": [],
   "source": [
    "cleaned_loans = cleaned_loans.dropna()"
   ]
  },
  {
   "cell_type": "markdown",
   "metadata": {},
   "source": [
    "What is the data type distribution of the dataframe?"
   ]
  },
  {
   "cell_type": "code",
   "execution_count": 207,
   "metadata": {
    "scrolled": true
   },
   "outputs": [
    {
     "data": {
      "text/plain": [
       "float64    14\n",
       "object     12\n",
       "int64       1\n",
       "dtype: int64"
      ]
     },
     "execution_count": 207,
     "metadata": {},
     "output_type": "execute_result"
    }
   ],
   "source": [
    "cleaned_loans.dtypes.value_counts()"
   ]
  },
  {
   "cell_type": "markdown",
   "metadata": {},
   "source": [
    "Floats and integers can be used natively by the algorithm, but object types need to be converted. \n",
    "Which are the object columns? "
   ]
  },
  {
   "cell_type": "code",
   "execution_count": 210,
   "metadata": {
    "scrolled": true
   },
   "outputs": [
    {
     "data": {
      "text/plain": [
       "Index(['term', 'int_rate', 'emp_length', 'home_ownership',\n",
       "       'verification_status', 'purpose', 'title', 'addr_state',\n",
       "       'earliest_cr_line', 'revol_util', 'last_credit_pull_d',\n",
       "       'debt_settlement_flag'],\n",
       "      dtype='object')"
      ]
     },
     "execution_count": 210,
     "metadata": {},
     "output_type": "execute_result"
    }
   ],
   "source": [
    "object_columns_df = cleaned_loans.select_dtypes(include=['object'])\n",
    "object_columns_df.columns"
   ]
  },
  {
   "cell_type": "markdown",
   "metadata": {},
   "source": [
    "Some columns represent categorical values:\n",
    "\n",
    "        home_ownership: home ownership status, can only be 1 of 4 categorical values according to the data dictionary,\n",
    "        verification_status: indicates if income was verified by Lending Club,\n",
    "        emp_length: number of years the borrower was employed upon time of application,\n",
    "        term: number of payments on the loan, either 36 or 60,\n",
    "        addr_state: borrower's state of residence,\n",
    "        purpose: a category provided by the borrower for the loan request,\n",
    "        title: loan title provided by the borrower,\n",
    "        \n",
    "There are also some columns that represent numeric values, that need to be converted:\n",
    "\n",
    "        int_rate: interest rate of the loan in %,\n",
    "        revol_util: revolving line utilization rate or the amount of credit the borrower is using relative to all available credit\n",
    "    \n",
    "    \n",
    "Some of the columns contain date values that would require a good amount of feature engineering for them to be potentially useful:\n",
    "\n",
    "    earliest_cr_line: The month the borrower's earliest reported credit line was opened,\n",
    "    last_credit_pull_d: The most recent month Lending Club pulled credit for this loan.\n",
    "Since these date features require some feature engineering for modeling purposes, they will be removed"
   ]
  },
  {
   "cell_type": "code",
   "execution_count": 214,
   "metadata": {
    "scrolled": false
   },
   "outputs": [
    {
     "name": "stdout",
     "output_type": "stream",
     "text": [
      "RENT        20181\n",
      "MORTGAGE    18959\n",
      "OWN          3251\n",
      "OTHER         136\n",
      "NONE            8\n",
      "Name: home_ownership, dtype: int64 \n",
      "\n",
      "\n",
      "Not Verified       18758\n",
      "Verified           13471\n",
      "Source Verified    10306\n",
      "Name: verification_status, dtype: int64 \n",
      "\n",
      "\n",
      "10+ years    9369\n",
      "< 1 year     5062\n",
      "2 years      4743\n",
      "3 years      4364\n",
      "4 years      3649\n",
      "1 year       3595\n",
      "5 years      3458\n",
      "6 years      2375\n",
      "7 years      1875\n",
      "8 years      1592\n",
      "9 years      1341\n",
      "Name: emp_length, dtype: int64 \n",
      "\n",
      "\n",
      " 36 months    31534\n",
      " 60 months    11001\n",
      "Name: term, dtype: int64 \n",
      "\n",
      "\n",
      "CA    7429\n",
      "NY    4065\n",
      "FL    3104\n",
      "TX    2915\n",
      "NJ    1988\n",
      "IL    1672\n",
      "PA    1651\n",
      "GA    1503\n",
      "VA    1487\n",
      "MA    1438\n",
      "OH    1329\n",
      "MD    1125\n",
      "AZ     933\n",
      "WA     888\n",
      "CO     857\n",
      "NC     830\n",
      "CT     816\n",
      "MI     796\n",
      "MO     765\n",
      "MN     652\n",
      "NV     527\n",
      "WI     516\n",
      "SC     489\n",
      "AL     484\n",
      "OR     468\n",
      "LA     461\n",
      "KY     359\n",
      "OK     317\n",
      "KS     298\n",
      "UT     278\n",
      "AR     261\n",
      "DC     224\n",
      "RI     208\n",
      "NM     205\n",
      "NH     188\n",
      "WV     187\n",
      "HI     181\n",
      "DE     136\n",
      "MT      96\n",
      "WY      87\n",
      "AK      86\n",
      "SD      67\n",
      "VT      57\n",
      "TN      32\n",
      "MS      26\n",
      "IN      19\n",
      "IA      12\n",
      "NE      11\n",
      "ID       9\n",
      "ME       3\n",
      "Name: addr_state, dtype: int64 \n",
      "\n",
      "\n",
      "Debt Consolidation                         2259\n",
      "Debt Consolidation Loan                    1760\n",
      "Personal Loan                               708\n",
      "Consolidation                               547\n",
      "debt consolidation                          532\n",
      "                                           ... \n",
      "New Year, New Finances!                       1\n",
      "Debt Consolidation from excellent payer       1\n",
      "business improvements                         1\n",
      "Hard worker needs loan - please?              1\n",
      "Car Loan 2010                                 1\n",
      "Name: title, Length: 21256, dtype: int64 \n",
      "\n",
      "\n",
      "debt_consolidation    19776\n",
      "credit_card            5477\n",
      "other                  4425\n",
      "home_improvement       3199\n",
      "major_purchase         2311\n",
      "small_business         1992\n",
      "car                    1615\n",
      "wedding                1004\n",
      "medical                 753\n",
      "moving                  629\n",
      "house                   426\n",
      "educational             422\n",
      "vacation                400\n",
      "renewable_energy        106\n",
      "Name: purpose, dtype: int64 \n",
      "\n",
      "\n"
     ]
    }
   ],
   "source": [
    "cols = ['home_ownership', 'verification_status', 'emp_length', 'term', 'addr_state','title', 'purpose']\n",
    "for i in cols:\n",
    "    print(loans[i].value_counts(),'\\n\\n')"
   ]
  },
  {
   "cell_type": "markdown",
   "metadata": {},
   "source": [
    "\n",
    "The home_ownership, verification_status, emp_length, and term columns each contain a few discrete categorical values. We should encode these columns as dummy variables and keep them.\n",
    "\n",
    "It seems like the purpose and title columns do contain overlapping information but we'll keep the purpose column since it contains a few discrete values. In addition, the title column has data quality issues since many of the values are repeated with slight modifications (e.g. Debt Consolidation and Debt Consolidation Loan and debt consolidation).\n",
    "\n",
    "The addr_state column contains many discrete values and we'd need to add 49 dummy variable columns to use it for classification. This would make our Dataframe much larger and could slow down how quickly the code runs. Let's remove this column from consideration.\n",
    "\n",
    "So we will drop the following columns:\n"
   ]
  },
  {
   "cell_type": "code",
   "execution_count": 215,
   "metadata": {},
   "outputs": [],
   "source": [
    "col_drop = ['last_credit_pull_d', 'addr_state', 'title', 'earliest_cr_line']\n",
    "cleaned_loans = cleaned_loans.drop(col_drop, axis=1)"
   ]
  },
  {
   "cell_type": "markdown",
   "metadata": {},
   "source": [
    "We will also use map to clean the emp_lenght column"
   ]
  },
  {
   "cell_type": "code",
   "execution_count": 216,
   "metadata": {},
   "outputs": [],
   "source": [
    "mapping_dict = {\n",
    "    \"emp_length\": {\n",
    "        \"10+ years\": 10,\n",
    "        \"9 years\": 9,\n",
    "        \"8 years\": 8,\n",
    "        \"7 years\": 7,\n",
    "        \"6 years\": 6,\n",
    "        \"5 years\": 5,\n",
    "        \"4 years\": 4,\n",
    "        \"3 years\": 3,\n",
    "        \"2 years\": 2,\n",
    "        \"1 year\": 1,\n",
    "        \"< 1 year\": 0,\n",
    "        \"n/a\": 0\n",
    "    }\n",
    "}\n",
    "cleaned_loans = cleaned_loans.replace(mapping_dict)"
   ]
  },
  {
   "cell_type": "markdown",
   "metadata": {},
   "source": [
    "Lastly, will clean the int_rate and revol_util rate by removing the percentage sign and change the value to integer"
   ]
  },
  {
   "cell_type": "code",
   "execution_count": 217,
   "metadata": {},
   "outputs": [],
   "source": [
    "col_to_int = ['int_rate', 'revol_util']\n",
    "for i in col_to_int:\n",
    "    cleaned_loans[i] = cleaned_loans[i].str.rstrip('%')\n",
    "    cleaned_loans[i] = pd.to_numeric(cleaned_loans[i])"
   ]
  },
  {
   "cell_type": "markdown",
   "metadata": {},
   "source": [
    "Let's now encode the home_ownership, verification_status, purpose, and term columns as dummy variables so we can use them in our model. "
   ]
  },
  {
   "cell_type": "code",
   "execution_count": 219,
   "metadata": {},
   "outputs": [],
   "source": [
    "cols_dummy = ['home_ownership', 'verification_status', 'purpose', 'term']\n",
    "dummy_df = pd.get_dummies(cleaned_loans[cols_dummy])\n",
    "cleaned_loans = pd.concat([cleaned_loans, dummy_df], axis =1 )\n",
    "cleaned_loans = cleaned_loans.drop(cols_dummy, axis=1)"
   ]
  },
  {
   "cell_type": "code",
   "execution_count": null,
   "metadata": {},
   "outputs": [],
   "source": []
  }
 ],
 "metadata": {
  "kernelspec": {
   "display_name": "Python 3",
   "language": "python",
   "name": "python3"
  },
  "language_info": {
   "codemirror_mode": {
    "name": "ipython",
    "version": 3
   },
   "file_extension": ".py",
   "mimetype": "text/x-python",
   "name": "python",
   "nbconvert_exporter": "python",
   "pygments_lexer": "ipython3",
   "version": "3.7.6"
  }
 },
 "nbformat": 4,
 "nbformat_minor": 4
}
