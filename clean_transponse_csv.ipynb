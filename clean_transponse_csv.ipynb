{
 "cells": [
  {
   "cell_type": "code",
   "execution_count": 3,
   "id": "efac20d9-0bcc-4e0a-950a-5ae6b8de71fb",
   "metadata": {},
   "outputs": [],
   "source": [
    "# Cleaning and transposing CSV data into n-columns and saving in XLSX format\n",
    "# Version 0.1\n",
    "import os\n",
    "import pandas as pd\n",
    "import numpy as np\n",
    "import re"
   ]
  },
  {
   "cell_type": "code",
   "execution_count": 4,
   "id": "08f471e3-a279-4899-8e5c-ad960efa28ec",
   "metadata": {},
   "outputs": [],
   "source": [
    "file_path = 'home/username/Documents/your_file.csv'\n",
    "df = pd.read_csv(file_path, header = None) # Assumes that your CSV file does not have a header"
   ]
  },
  {
   "cell_type": "code",
   "execution_count": 6,
   "id": "dd6d68ff-5364-463c-932f-0ea82a18a526",
   "metadata": {},
   "outputs": [],
   "source": [
    "# Droping empty rows\n",
    "df_cleaned = df.dropna(axis=1, how='all')\n",
    "df_cleaned = df_cleaned.dropna()\n",
    "df_cleaned.head(10)"
   ]
  },
  {
   "cell_type": "code",
   "execution_count": 232,
   "id": "b22b0c17-bc42-4113-a93d-255dd6ee15ef",
   "metadata": {},
   "outputs": [],
   "source": [
    "headers = ['Header 1', 'Header 2', 'Header 3']"
   ]
  },
  {
   "cell_type": "code",
   "execution_count": 233,
   "id": "5240121b-1c60-4191-bcdd-305133adb6ee",
   "metadata": {},
   "outputs": [],
   "source": [
    "chunks = 3 # Number of rows that needs to be transposed into columns\n",
    "\n",
    "#Pad extra rows with NaN\n",
    "extra_rows = len(df_cleaned) % chunks\n",
    "if extra_rows > 0:\n",
    "    padding = chunks - extra_rows\n",
    "    padding_df = pd.Series([np.nan] * padding)\n",
    "    df_cleaned = pd.concat([df_cleaned, padding_df], ignore_index=True)\n",
    "\n",
    "# Transpose the cleaned data\n",
    "reshaped_data = df_cleaned.values.reshape(-1,chunks)\n",
    "df_transposed = pd.DataFrame(reshaped_data)"
   ]
  },
  {
   "cell_type": "code",
   "execution_count": 234,
   "id": "64c78ea4-a57f-414e-97f6-aa18b2d2d803",
   "metadata": {},
   "outputs": [],
   "source": [
    "# Ensure the number of columns in df_transposed matches the number of headers\n",
    "if len(df_transposed.columns) == len(headers):\n",
    "    df_transposed.columns = headers\n",
    "else:\n",
    "    print(f\"Warning: The number of headers does not match the number of columns in df_transposed.\")\n"
   ]
  },
  {
   "cell_type": "code",
   "execution_count": 235,
   "id": "4293522a-c7cd-48ea-807b-10cfd4138a34",
   "metadata": {},
   "outputs": [],
   "source": [
    "# Function to remove non-printable characters (including control characters)\n",
    "def remove_non_printable(text):\n",
    "    if isinstance(text, str):\n",
    "        # Remove any non-printable characters (e.g., control characters)\n",
    "        return re.sub(r'[^\\x20-\\x7E]', '', text)  # Remove characters outside the printable range\n",
    "    return text\n"
   ]
  },
  {
   "cell_type": "code",
   "execution_count": 236,
   "id": "10553902-b95e-408e-9334-815df1c588c8",
   "metadata": {},
   "outputs": [],
   "source": [
    "# Clean both headers and data by removing non-printable characters\n",
    "df_transposed.columns = df_transposed.columns.map(remove_non_printable)  # Clean column headers\n",
    "df_transposed = df_transposed.apply(remove_non_printable)  # Clean data cells\n"
   ]
  },
  {
   "cell_type": "code",
   "execution_count": 237,
   "id": "f57b4b1a-b6ed-482b-9adc-9d65f0c523b7",
   "metadata": {},
   "outputs": [],
   "source": [
    "# Create the cleaned_data directory if it doesn't exist\n",
    "output_dir = 'cleaned_data'\n",
    "os.makedirs(output_dir, exist_ok=True)"
   ]
  },
  {
   "cell_type": "code",
   "execution_count": 238,
   "id": "2c5de6e0-7d42-48c9-a2dd-f3239536f4d9",
   "metadata": {},
   "outputs": [
    {
     "name": "stdout",
     "output_type": "stream",
     "text": [
      "File saved to cleaned_data/compla_transposed.xlsx\n"
     ]
    }
   ],
   "source": [
    "# Save the df_transposed to an Excel file in the cleaned_data directory\n",
    "base_name = os.path.splitext(os.path.basename(file_path))[0]\n",
    "output_file = os.path.join(output_dir, f\"{base_name}_transposed.xlsx\")\n",
    "df_transposed.to_excel(output_file, index=False, header=True)\n",
    "\n",
    "print(f\"File saved to {output_file}\")"
   ]
  },
  {
   "cell_type": "code",
   "execution_count": 128,
   "id": "b54fd1ba-0add-4f86-8efb-2f3fe1f0c9e5",
   "metadata": {},
   "outputs": [],
   "source": [
    "# Alternatively, save  the df_transposed to an Excel file in the cleaned_data directory\n",
    "# base_name = os.path.splitext(os.path.basename(file_path))[0]\n",
    "# output_file = f\"{base_name}_transposed.csv\"\n",
    "# df_transposed.to_csv(output_file, index=False, header=False)\n",
    "\n",
    "# output_file = os.path.join(output_dir, f\"{base_name}_transposed.xlsx\")\n",
    "# df_transposed.to_excel(output_file, index=False, header=True)\n"
   ]
  },
  {
   "cell_type": "code",
   "execution_count": null,
   "id": "8ce9dce3-8418-41e6-a225-9684d2d4b2e9",
   "metadata": {},
   "outputs": [],
   "source": []
  }
 ],
 "metadata": {
  "kernelspec": {
   "display_name": "Python 3 (ipykernel)",
   "language": "python",
   "name": "python3"
  },
  "language_info": {
   "codemirror_mode": {
    "name": "ipython",
    "version": 3
   },
   "file_extension": ".py",
   "mimetype": "text/x-python",
   "name": "python",
   "nbconvert_exporter": "python",
   "pygments_lexer": "ipython3",
   "version": "3.11.4"
  }
 },
 "nbformat": 4,
 "nbformat_minor": 5
}
